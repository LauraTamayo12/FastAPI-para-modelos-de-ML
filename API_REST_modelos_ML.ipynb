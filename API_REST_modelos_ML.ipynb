{
  "nbformat": 4,
  "nbformat_minor": 0,
  "metadata": {
    "colab": {
      "provenance": []
    },
    "kernelspec": {
      "name": "python3",
      "display_name": "Python 3"
    },
    "language_info": {
      "name": "python"
    }
  },
  "cells": [
    {
      "cell_type": "markdown",
      "source": [
        "#Despliegue de un Modelo de Clasificación con FastAPI usando el Dataset de Vinos\n",
        "\n",
        "###Laura Vanessa Tamayo Pérez\n",
        "```\n",
        "Codigo 202422590\n",
        "```\n",
        "\n",
        "\n",
        "Link del dataset: https://scikit-learn.org/stable/datasets/toy_dataset.html#wine-dataset\n"
      ],
      "metadata": {
        "id": "wFJEofL-ev7c"
      }
    },
    {
      "cell_type": "code",
      "execution_count": 27,
      "metadata": {
        "colab": {
          "base_uri": "https://localhost:8080/"
        },
        "collapsed": true,
        "id": "9nLiW-GbZyNA",
        "outputId": "cd1ad871-51ea-4c85-c1a9-6c51ef75c464"
      },
      "outputs": [
        {
          "output_type": "stream",
          "name": "stdout",
          "text": [
            "Requirement already satisfied: fastapi in /usr/local/lib/python3.11/dist-packages (0.115.12)\n",
            "Requirement already satisfied: uvicorn in /usr/local/lib/python3.11/dist-packages (0.34.0)\n",
            "Requirement already satisfied: nest_asyncio in /usr/local/lib/python3.11/dist-packages (1.6.0)\n",
            "Collecting pyngrok\n",
            "  Downloading pyngrok-7.2.3-py3-none-any.whl.metadata (8.7 kB)\n",
            "Requirement already satisfied: joblib in /usr/local/lib/python3.11/dist-packages (1.4.2)\n",
            "Requirement already satisfied: scikit-learn in /usr/local/lib/python3.11/dist-packages (1.6.1)\n",
            "Requirement already satisfied: starlette<0.47.0,>=0.40.0 in /usr/local/lib/python3.11/dist-packages (from fastapi) (0.46.1)\n",
            "Requirement already satisfied: pydantic!=1.8,!=1.8.1,!=2.0.0,!=2.0.1,!=2.1.0,<3.0.0,>=1.7.4 in /usr/local/lib/python3.11/dist-packages (from fastapi) (2.10.6)\n",
            "Requirement already satisfied: typing-extensions>=4.8.0 in /usr/local/lib/python3.11/dist-packages (from fastapi) (4.12.2)\n",
            "Requirement already satisfied: click>=7.0 in /usr/local/lib/python3.11/dist-packages (from uvicorn) (8.1.8)\n",
            "Requirement already satisfied: h11>=0.8 in /usr/local/lib/python3.11/dist-packages (from uvicorn) (0.14.0)\n",
            "Requirement already satisfied: PyYAML>=5.1 in /usr/local/lib/python3.11/dist-packages (from pyngrok) (6.0.2)\n",
            "Requirement already satisfied: numpy>=1.19.5 in /usr/local/lib/python3.11/dist-packages (from scikit-learn) (2.0.2)\n",
            "Requirement already satisfied: scipy>=1.6.0 in /usr/local/lib/python3.11/dist-packages (from scikit-learn) (1.14.1)\n",
            "Requirement already satisfied: threadpoolctl>=3.1.0 in /usr/local/lib/python3.11/dist-packages (from scikit-learn) (3.6.0)\n",
            "Requirement already satisfied: annotated-types>=0.6.0 in /usr/local/lib/python3.11/dist-packages (from pydantic!=1.8,!=1.8.1,!=2.0.0,!=2.0.1,!=2.1.0,<3.0.0,>=1.7.4->fastapi) (0.7.0)\n",
            "Requirement already satisfied: pydantic-core==2.27.2 in /usr/local/lib/python3.11/dist-packages (from pydantic!=1.8,!=1.8.1,!=2.0.0,!=2.0.1,!=2.1.0,<3.0.0,>=1.7.4->fastapi) (2.27.2)\n",
            "Requirement already satisfied: anyio<5,>=3.6.2 in /usr/local/lib/python3.11/dist-packages (from starlette<0.47.0,>=0.40.0->fastapi) (4.9.0)\n",
            "Requirement already satisfied: idna>=2.8 in /usr/local/lib/python3.11/dist-packages (from anyio<5,>=3.6.2->starlette<0.47.0,>=0.40.0->fastapi) (3.10)\n",
            "Requirement already satisfied: sniffio>=1.1 in /usr/local/lib/python3.11/dist-packages (from anyio<5,>=3.6.2->starlette<0.47.0,>=0.40.0->fastapi) (1.3.1)\n",
            "Downloading pyngrok-7.2.3-py3-none-any.whl (23 kB)\n",
            "Installing collected packages: pyngrok\n",
            "Successfully installed pyngrok-7.2.3\n"
          ]
        }
      ],
      "source": [
        "#Instalación de la api\n",
        "!pip install fastapi uvicorn nest_asyncio pyngrok joblib scikit-learn"
      ]
    },
    {
      "cell_type": "code",
      "source": [
        "from sklearn.ensemble import RandomForestClassifier\n",
        "from sklearn.datasets import load_wine\n",
        "from sklearn.model_selection import train_test_split\n",
        "from sklearn.preprocessing import StandardScaler\n",
        "from sklearn.metrics import accuracy_score\n",
        "import joblib\n",
        "\n",
        "# Se carga el dataset de wine sobre vinos\n",
        "data = load_wine()\n",
        "X = data.data\n",
        "y = data.target\n",
        "\n",
        "# se dividenn lo datos en entrenamiento y prueba\n",
        "X_train, X_test, y_train, y_test = train_test_split(X, y, test_size=0.2, stratify=y, random_state=42)\n",
        "\n",
        "# se hace un escalado\n",
        "# Aunque al utilizar un modelo de random Forest no es necesario hacer el escalamiento de los datos,\n",
        "#llega a ser una buena práctica puesto que permite guardar el preprocesamiento para un entorno productivo\n",
        "scaler = StandardScaler()\n",
        "X_train_scaled = scaler.fit_transform(X_train)\n",
        "X_test_scaled = scaler.transform(X_test)\n",
        "\n",
        "# Entrenamiento del modelo\n",
        "model = RandomForestClassifier(n_estimators=120, random_state=42)\n",
        "model.fit(X_train_scaled, y_train)\n",
        "\n",
        "#Se evalua el modelo\n",
        "y_pred = model.predict(X_test)\n",
        "print(f\"Precisión del modelo: {accuracy_score(y_test, y_pred):.2f}\")\n",
        "\n",
        "#Se evalua el modelo escalado\n",
        "y_pred = model.predict(X_test_scaled)\n",
        "print(f\"Precisión del modelo escalado: {accuracy_score(y_test, y_pred):.2f}\")\n",
        "\n",
        "# Guardar modelo y escalador\n",
        "joblib.dump(model, 'modelo_clasificacion.pkl')\n",
        "joblib.dump(scaler, 'escalador.pkl')\n"
      ],
      "metadata": {
        "colab": {
          "base_uri": "https://localhost:8080/"
        },
        "id": "wndk0uJRaA7p",
        "outputId": "eef575bb-9394-4ce1-f035-d4cd563f9838"
      },
      "execution_count": 36,
      "outputs": [
        {
          "output_type": "stream",
          "name": "stdout",
          "text": [
            "Precisión del modelo: 0.33\n",
            "Precisión del modelo escalado: 1.00\n"
          ]
        },
        {
          "output_type": "execute_result",
          "data": {
            "text/plain": [
              "['escalador.pkl']"
            ]
          },
          "metadata": {},
          "execution_count": 36
        }
      ]
    },
    {
      "cell_type": "markdown",
      "source": [
        "Se puede observar que el modelo sin escalar llega a tener una precisión del 0.33, siendo algo bajo por lo que se decidió a trabajar con el modelo escalado a fin de tener unas mejores predicciones para este ejercicio."
      ],
      "metadata": {
        "id": "grrjNAmUAK-e"
      }
    },
    {
      "cell_type": "code",
      "source": [
        "# En este caso se plantea el uso de ngrok a fin de poder crear un túnel\n",
        "#que sea público y accesible desde Internet y permita el acceso a la API de navegadores\n",
        "#a las diferentes solicitudes, porr lo que se entrelaza con el token\n",
        "!ngrok config add-authtoken 2ueVSZNb0UWHvJzAkPQ15eexe8A_5v3MHq3pins3oQ3dveTMB"
      ],
      "metadata": {
        "colab": {
          "base_uri": "https://localhost:8080/"
        },
        "id": "CPYyBX0dtnXv",
        "outputId": "7f8e2a99-c478-4fd0-cedc-fa15f282c7d5"
      },
      "execution_count": 51,
      "outputs": [
        {
          "output_type": "stream",
          "name": "stdout",
          "text": [
            "Authtoken saved to configuration file: /root/.config/ngrok/ngrok.yml\n"
          ]
        }
      ]
    },
    {
      "cell_type": "code",
      "source": [
        "import numpy as np\n",
        "\n",
        "# Revisar clases únicas del modelo\n",
        "print(model.classes_)\n"
      ],
      "metadata": {
        "colab": {
          "base_uri": "https://localhost:8080/"
        },
        "id": "raAE0rEl6C4W",
        "outputId": "c470db4a-1a0e-4a93-e097-c10553bcad1c"
      },
      "execution_count": 52,
      "outputs": [
        {
          "output_type": "stream",
          "name": "stdout",
          "text": [
            "[0 1 2]\n"
          ]
        }
      ]
    },
    {
      "cell_type": "code",
      "source": [
        "import logging\n",
        "\n",
        "# Eliminar handlers anteriores si ya se ejecutó antes\n",
        "for handler in logging.root.handlers[:]:\n",
        "    logging.root.removeHandler(handler)\n",
        "\n",
        "# Configurar logging manualmente\n",
        "logging.basicConfig(\n",
        "    filename=\"log_api_vino_v2.log\",\n",
        "    filemode=\"a\",  # 'a' para agregar, 'w' para sobrescribir\n",
        "    level=logging.INFO,\n",
        "    format=\"%(asctime)s - %(levelname)s - %(message)s\"\n",
        ")\n",
        "\n",
        "print(\"✅ Logging reconfigurado. Archivo: log_api_vino_v2.log\")\n"
      ],
      "metadata": {
        "colab": {
          "base_uri": "https://localhost:8080/"
        },
        "id": "3L3v3EWYDB3q",
        "outputId": "bee97eed-9015-41b4-dd2b-50309348bcd9"
      },
      "execution_count": 53,
      "outputs": [
        {
          "output_type": "stream",
          "name": "stdout",
          "text": [
            "✅ Logging reconfigurado. Archivo: log_api_vino_v2.log\n"
          ]
        }
      ]
    },
    {
      "cell_type": "code",
      "source": [
        "from fastapi import FastAPI\n",
        "from pydantic import BaseModel\n",
        "import nest_asyncio\n",
        "import uvicorn\n",
        "from pyngrok import ngrok\n",
        "import joblib\n",
        "import numpy as np\n",
        "import logging\n",
        "\n",
        "#requerido para ejecutar FastAPI en Colab\n",
        "nest_asyncio.apply()\n",
        "\n",
        "#cargar modelo guardado y escalador\n",
        "modelo = joblib.load(\"modelo_clasificacion.pkl\")\n",
        "scaler = joblib.load(\"escalador.pkl\")\n",
        "\n",
        "#se inicializa FastAPI\n",
        "app = FastAPI(title=\"API de Clasificación de vinos\")\n",
        "\n",
        "#definición de entradas de datos\n",
        "class WineData(BaseModel):\n",
        "    alcohol: float\n",
        "    malic_acid: float\n",
        "    ash: float\n",
        "    alcalinity_of_ash: float\n",
        "    magnesium: float\n",
        "    total_phenols: float\n",
        "    flavanoids: float\n",
        "    nonflavanoid_phenols: float\n",
        "    proanthocyanins: float\n",
        "    color_intensity: float\n",
        "    hue: float\n",
        "    od280_od315_of_diluted_wines: float\n",
        "    proline: float\n",
        "\n",
        "# Endpoint para predicción\n",
        "@app.post(\"/predecir/\")\n",
        "def predecir_vino(datos: WineData):\n",
        "    entrada = np.array([[valor for valor in datos.model_dump().values()]])\n",
        "    entrada_esc = scaler.transform(entrada)\n",
        "    pred = modelo.predict(entrada_esc)[0]\n",
        "    logging.info(f\"Entrada: {datos.model_dump()} → Predicción: {float(pred)}\")\n",
        "    return {\"prediccion\": float(pred)}\n",
        "\n",
        "#Endpoint a la raíz a fin de no aparecer el 404 Not Found\n",
        "@app.get(\"/\")\n",
        "def read_root():\n",
        "    return {\"mensaje\": \"¡Bienvenido a la API de clasificación de vinos! Ve a /docs para usarla.\"}\n",
        "\n",
        "# Crear túnel público\n",
        "public_url = ngrok.connect(8000)\n",
        "print(f\"🌐 API disponible en: {public_url}/docs\")\n",
        "\n",
        "# Ejecutar servidor\n",
        "uvicorn.run(app, host=\"0.0.0.0\", port=8000)"
      ],
      "metadata": {
        "colab": {
          "base_uri": "https://localhost:8080/"
        },
        "collapsed": true,
        "id": "lwxK4AsdaCCS",
        "outputId": "dc7d8743-8ac8-41cf-9abf-e7f2cbb342f4"
      },
      "execution_count": 54,
      "outputs": [
        {
          "output_type": "stream",
          "name": "stdout",
          "text": [
            "✅ Logging reconfigurado. Archivo: log_api_vino_v2.log\n",
            "🌐 API disponible en: NgrokTunnel: \"https://0908-34-150-163-63.ngrok-free.app\" -> \"http://localhost:8000\"/docs\n"
          ]
        },
        {
          "output_type": "stream",
          "name": "stderr",
          "text": [
            "INFO:     Started server process [276]\n",
            "INFO:     Waiting for application startup.\n",
            "INFO:     Application startup complete.\n",
            "INFO:     Uvicorn running on http://0.0.0.0:8000 (Press CTRL+C to quit)\n"
          ]
        },
        {
          "output_type": "stream",
          "name": "stdout",
          "text": [
            "INFO:     191.156.159.26:0 - \"GET / HTTP/1.1\" 200 OK\n",
            "INFO:     191.156.150.60:0 - \"GET /favicon.ico HTTP/1.1\" 404 Not Found\n",
            "INFO:     191.156.151.138:0 - \"GET /docs HTTP/1.1\" 200 OK\n",
            "INFO:     191.156.151.138:0 - \"GET /openapi.json HTTP/1.1\" 200 OK\n",
            "INFO:     54.86.50.139:0 - \"POST /predecir/ HTTP/1.1\" 422 Unprocessable Entity\n",
            "INFO:     54.86.50.139:0 - \"POST /predecir/ HTTP/1.1\" 200 OK\n",
            "INFO:     54.86.50.139:0 - \"POST /predecir/ HTTP/1.1\" 200 OK\n",
            "INFO:     54.86.50.139:0 - \"POST /predecir/ HTTP/1.1\" 200 OK\n",
            "INFO:     54.86.50.139:0 - \"POST /predecir/ HTTP/1.1\" 200 OK\n",
            "INFO:     54.86.50.139:0 - \"POST /predecir/ HTTP/1.1\" 200 OK\n",
            "INFO:     54.86.50.139:0 - \"POST /predecir/ HTTP/1.1\" 200 OK\n",
            "INFO:     54.86.50.139:0 - \"POST /predecir/ HTTP/1.1\" 200 OK\n",
            "INFO:     54.86.50.139:0 - \"POST /predecir/ HTTP/1.1\" 200 OK\n",
            "INFO:     54.86.50.139:0 - \"POST /predecir/ HTTP/1.1\" 200 OK\n",
            "INFO:     54.86.50.139:0 - \"POST /predecir/ HTTP/1.1\" 200 OK\n"
          ]
        },
        {
          "output_type": "stream",
          "name": "stderr",
          "text": [
            "INFO:     Shutting down\n",
            "INFO:     Waiting for application shutdown.\n",
            "INFO:     Application shutdown complete.\n",
            "INFO:     Finished server process [276]\n"
          ]
        }
      ]
    },
    {
      "cell_type": "code",
      "source": [
        "# Ver las últimas líneas del log\n",
        "!tail log_api_vino_v2.log\n"
      ],
      "metadata": {
        "colab": {
          "base_uri": "https://localhost:8080/"
        },
        "id": "ikKqBstUBe76",
        "outputId": "17b5675c-f11e-40c4-d99b-538c983311dd"
      },
      "execution_count": 49,
      "outputs": [
        {
          "output_type": "stream",
          "name": "stdout",
          "text": [
            "tail: cannot open 'log_api_vino_v2.log' for reading: No such file or directory\n"
          ]
        }
      ]
    }
  ]
}